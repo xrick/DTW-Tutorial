{
 "cells": [
  {
   "cell_type": "code",
   "execution_count": 4,
   "metadata": {},
   "outputs": [],
   "source": [
    "import wave, struct"
   ]
  },
  {
   "cell_type": "code",
   "execution_count": 2,
   "metadata": {},
   "outputs": [],
   "source": [
    "def Dat2Wav(SrcDatName, DesWavName, F_Channel, F_SampleWidth, F_SampleRate, Duration):\n",
    "    _datlist = []\n",
    "    with open(SrcDatName,\"r\") as lines:\n",
    "        lines.readline()\n",
    "        for line in lines:\n",
    "            _datlist.append(lines.readline().replace(\"\\n\",\"\"))\n",
    "    wavfile = wave.open\n",
    "    "
   ]
  },
  {
   "cell_type": "code",
   "execution_count": null,
   "metadata": {},
   "outputs": [],
   "source": []
  },
  {
   "cell_type": "code",
   "execution_count": null,
   "metadata": {},
   "outputs": [],
   "source": [
    "\"\"\"\n",
    "_tmpw = []\n",
    "with open(\"dat/A1/A1_P20_Flow.dat\",\"r\") as lines:\n",
    "    lines.readline()\n",
    "#     lines = lines[1:]\n",
    "    for line in lines:\n",
    "        print(line)\n",
    "        _tmpw.append(lines.readline().replace(\"\\n\",\"\"))\n",
    "#     for line in lines:\n",
    "#         print(line)\n",
    "print(_tmpw)\n",
    "\n",
    "sampleRate = 44100.0 # hertz\n",
    "duration = 1.0 # seconds\n",
    "frequency = 440.0 # hertz\n",
    "obj = wave.open('sound.wav','w')\n",
    "obj.setnchannels(1) # mono\n",
    "obj.setsampwidth(2)\n",
    "obj.setframerate(sampleRate)\n",
    "# print(_tmpw)\n",
    "_tmpw = list(map(float,_tmpw))\n",
    "_tmpw = list(map(int,_tmpw))\n",
    "print(type(_tmpw))\n",
    "datlen = len(_tmpw)\n",
    "for i in range(datlen):\n",
    "   value = int(_tmpw[i])#random.randint(-32767, 32767)\n",
    "   data = struct.pack('<h', value)\n",
    "   obj.writeframesraw( data )\n",
    "obj.close()\n",
    "\"\"\""
   ]
  }
 ],
 "metadata": {
  "kernelspec": {
   "display_name": "Python 3",
   "language": "python",
   "name": "python3"
  },
  "language_info": {
   "codemirror_mode": {
    "name": "ipython",
    "version": 3
   },
   "file_extension": ".py",
   "mimetype": "text/x-python",
   "name": "python",
   "nbconvert_exporter": "python",
   "pygments_lexer": "ipython3",
   "version": "3.7.4"
  }
 },
 "nbformat": 4,
 "nbformat_minor": 2
}
