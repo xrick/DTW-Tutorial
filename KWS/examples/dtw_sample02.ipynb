{
 "cells": [
  {
   "cell_type": "code",
   "execution_count": null,
   "metadata": {},
   "outputs": [],
   "source": []
  },
  {
   "cell_type": "code",
   "execution_count": null,
   "metadata": {},
   "outputs": [],
   "source": [
    "import numpy as np"
   ]
  },
  {
   "cell_type": "code",
   "execution_count": null,
   "metadata": {},
   "outputs": [],
   "source": [
    "def cal_dtw_distance(ts_a, ts_b):\n",
    "    \"\"\"Returns the DTW similarity distance between two 2-D\n",
    "    timeseries numpy arrays.\n",
    "\n",
    "    Arguments\n",
    "    ---------\n",
    "    ts_a, ts_b : array of shape [n_samples, n_timepoints]\n",
    "        Two arrays containing n_samples of timeseries data\n",
    "        whose DTW distance between each sample of A and B\n",
    "        will be compared\n",
    "\n",
    "    d : DistanceMetric object (default = abs(x-y))\n",
    "        the distance measure used for A_i - B_j in the\n",
    "        DTW dynamic programming function\n",
    "\n",
    "    Returns\n",
    "    -------\n",
    "    DTW distance between A and B\n",
    "    \"\"\"\n",
    "    d=lambda x, y: abs(x - y)\n",
    "    max_warping_window = 10000\n",
    "\n",
    "    # Create cost matrix via broadcasting with large int\n",
    "    ts_a, ts_b = np.array(ts_a), np.array(ts_b)\n",
    "    M, N = len(ts_a), len(ts_b)\n",
    "    cost = sys.maxsize * np.ones((M, N))\n",
    "\n",
    "    # Initialize the first row and column\n",
    "    cost[0, 0] = d(ts_a[0], ts_b[0])\n",
    "    for i in range(1, M):\n",
    "        cost[i, 0] = cost[i - 1, 0] + d(ts_a[i], ts_b[0])\n",
    "\n",
    "    for j in range(1, N):\n",
    "        cost[0, j] = cost[0, j - 1] + d(ts_a[0], ts_b[j])\n",
    "\n",
    "    # Populate rest of cost matrix within window\n",
    "    for i in range(1, M):\n",
    "        for j in range(max(1, i - max_warping_window),\n",
    "                       min(N, i + max_warping_window)):\n",
    "            choices = cost[i - 1, j - 1], cost[i, j - 1], cost[i - 1, j]\n",
    "            cost[i, j] = min(choices) + d(ts_a[i], ts_b[j])\n",
    "\n",
    "    # Return DTW distance given window\n",
    "    return cost[-1, -1]\n",
    "\n",
    "if __name__ == \"__main__\":\n",
    "    # 案例：判断ts_a与ts_b和ts_c哪个更相似\n",
    "    \n",
    "    ts_a = [1,5,8,10,56,21,32,8]\n",
    "    ts_b = [1,5,8,10,23,56,21,32,8]\n",
    "    ts_c = [1,3,6,9,16,29,31,32,33]\n",
    "    \n",
    "    # 调用cal_dtw_distance计算dtw相似度\n",
    "    dtw_ab = cal_dtw_distance(ts_a, ts_b)\n",
    "    dtw_ac = cal_dtw_distance(ts_a, ts_c)\n",
    "    \n",
    "    print(\"ts_a与ts_b的dtw相似度为 %2.f，\\nts_a与ts_c的dtw相似度为 %2.f。\" % (dtw_ab, dtw_ac))\n",
    "    \n",
    "    if dtw_ab < dtw_ac:\n",
    "        print(\"ts_a与ts_b 更相似！\")\n",
    "    else:\n",
    "        print(\"ts_a与ts_c 更相似！\")"
   ]
  }
 ],
 "metadata": {
  "kernelspec": {
   "display_name": "Python 3",
   "language": "python",
   "name": "python3"
  },
  "language_info": {
   "codemirror_mode": {
    "name": "ipython",
    "version": 3
   },
   "file_extension": ".py",
   "mimetype": "text/x-python",
   "name": "python",
   "nbconvert_exporter": "python",
   "pygments_lexer": "ipython3",
   "version": "3.7.4"
  }
 },
 "nbformat": 4,
 "nbformat_minor": 2
}
